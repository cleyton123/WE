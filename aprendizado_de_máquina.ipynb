{
  "nbformat": 4,
  "nbformat_minor": 0,
  "metadata": {
    "colab": {
      "provenance": [],
      "authorship_tag": "ABX9TyPX6hHrufLbL7TXsqZl+oJX",
      "include_colab_link": true
    },
    "kernelspec": {
      "name": "python3",
      "display_name": "Python 3"
    },
    "language_info": {
      "name": "python"
    }
  },
  "cells": [
    {
      "cell_type": "markdown",
      "metadata": {
        "id": "view-in-github",
        "colab_type": "text"
      },
      "source": [
        "<a href=\"https://colab.research.google.com/github/cleyton123/WE/blob/master/aprendizado_de_m%C3%A1quina.ipynb\" target=\"_parent\"><img src=\"https://colab.research.google.com/assets/colab-badge.svg\" alt=\"Open In Colab\"/></a>"
      ]
    },
    {
      "cell_type": "code",
      "execution_count": null,
      "metadata": {
        "id": "T0eenxeKRHd6"
      },
      "outputs": [],
      "source": [
        "import numpy\n",
        "\n",
        "velocidade = [99,86,87,88,111,86,103,87,94,78,77,85,86]\n",
        "#método men() calcula a média\n",
        "x = numpy.mean(velocidade)\n",
        "\n",
        "print(x)"
      ]
    },
    {
      "cell_type": "code",
      "source": [
        "notas = [2,3,4,7,5,3]\n",
        "#método median() calcula a mediana\n",
        "x = numpy.median(notas)\n",
        "print(x)"
      ],
      "metadata": {
        "colab": {
          "base_uri": "https://localhost:8080/"
        },
        "id": "kO15xbDQS6x9",
        "outputId": "aa2b9ad1-3652-4b3d-e210-6d671d861126"
      },
      "execution_count": 9,
      "outputs": [
        {
          "output_type": "stream",
          "name": "stdout",
          "text": [
            "3.5\n"
          ]
        }
      ]
    },
    {
      "cell_type": "code",
      "source": [
        "from scipy import stats\n",
        "#método mode() calcula a média\n",
        "qtd = [2,3,5,2,6,2,5,5,2]\n",
        "\n",
        "x = stats.mode(qtd)\n",
        "print(x)"
      ],
      "metadata": {
        "colab": {
          "base_uri": "https://localhost:8080/"
        },
        "id": "lDYXTijEUfrl",
        "outputId": "25cbf5ad-d376-43c5-dd18-8dabb912968a"
      },
      "execution_count": 13,
      "outputs": [
        {
          "output_type": "stream",
          "name": "stdout",
          "text": [
            "ModeResult(mode=2, count=4)\n"
          ]
        }
      ]
    }
  ]
}